{
 "cells": [
  {
   "cell_type": "code",
   "execution_count": 49,
   "metadata": {},
   "outputs": [],
   "source": [
    "import pandas as pd\n",
    "df = pd.read_csv('hbp3.tsv', delimiter='\\t')"
   ]
  },
  {
   "cell_type": "code",
   "execution_count": 50,
   "metadata": {},
   "outputs": [
    {
     "data": {
      "text/html": [
       "<div>\n",
       "<style scoped>\n",
       "    .dataframe tbody tr th:only-of-type {\n",
       "        vertical-align: middle;\n",
       "    }\n",
       "\n",
       "    .dataframe tbody tr th {\n",
       "        vertical-align: top;\n",
       "    }\n",
       "\n",
       "    .dataframe thead th {\n",
       "        text-align: right;\n",
       "    }\n",
       "</style>\n",
       "<table border=\"1\" class=\"dataframe\">\n",
       "  <thead>\n",
       "    <tr style=\"text-align: right;\">\n",
       "      <th></th>\n",
       "      <th>DATETIME(JST)</th>\n",
       "      <th>DATENAME(JST)</th>\n",
       "      <th>HOURS(JST)</th>\n",
       "      <th>DATENAME</th>\n",
       "      <th>DATETIME</th>\n",
       "      <th>HOURS</th>\n",
       "      <th>Table Name</th>\n",
       "      <th>building</th>\n",
       "      <th>floor</th>\n",
       "      <th>sensorId</th>\n",
       "      <th>stall</th>\n",
       "      <th>status</th>\n",
       "      <th>unixtimestamp</th>\n",
       "    </tr>\n",
       "  </thead>\n",
       "  <tbody>\n",
       "    <tr>\n",
       "      <th>0</th>\n",
       "      <td>2017/12/20 13:13</td>\n",
       "      <td>Wednesday</td>\n",
       "      <td>13</td>\n",
       "      <td>Wednesday</td>\n",
       "      <td>2017/12/20 4:13</td>\n",
       "      <td>4</td>\n",
       "      <td>1513743187638.json</td>\n",
       "      <td>91</td>\n",
       "      <td>4</td>\n",
       "      <td>910401</td>\n",
       "      <td>1</td>\n",
       "      <td>close</td>\n",
       "      <td>1.510000e+12</td>\n",
       "    </tr>\n",
       "    <tr>\n",
       "      <th>1</th>\n",
       "      <td>2017/12/20 13:16</td>\n",
       "      <td>Wednesday</td>\n",
       "      <td>13</td>\n",
       "      <td>Wednesday</td>\n",
       "      <td>2017/12/20 4:16</td>\n",
       "      <td>4</td>\n",
       "      <td>1513743383454.json</td>\n",
       "      <td>91</td>\n",
       "      <td>4</td>\n",
       "      <td>910403</td>\n",
       "      <td>3</td>\n",
       "      <td>close</td>\n",
       "      <td>1.510000e+12</td>\n",
       "    </tr>\n",
       "    <tr>\n",
       "      <th>2</th>\n",
       "      <td>2017/12/20 13:21</td>\n",
       "      <td>Wednesday</td>\n",
       "      <td>13</td>\n",
       "      <td>Wednesday</td>\n",
       "      <td>2017/12/20 4:21</td>\n",
       "      <td>4</td>\n",
       "      <td>1513743674523.json</td>\n",
       "      <td>91</td>\n",
       "      <td>4</td>\n",
       "      <td>910402</td>\n",
       "      <td>2</td>\n",
       "      <td>close</td>\n",
       "      <td>1.510000e+12</td>\n",
       "    </tr>\n",
       "    <tr>\n",
       "      <th>3</th>\n",
       "      <td>2017/12/20 13:23</td>\n",
       "      <td>Wednesday</td>\n",
       "      <td>13</td>\n",
       "      <td>Wednesday</td>\n",
       "      <td>2017/12/20 4:23</td>\n",
       "      <td>4</td>\n",
       "      <td>1513743794829.json</td>\n",
       "      <td>91</td>\n",
       "      <td>4</td>\n",
       "      <td>910403</td>\n",
       "      <td>3</td>\n",
       "      <td>open</td>\n",
       "      <td>1.510000e+12</td>\n",
       "    </tr>\n",
       "    <tr>\n",
       "      <th>4</th>\n",
       "      <td>2017/12/20 13:23</td>\n",
       "      <td>Wednesday</td>\n",
       "      <td>13</td>\n",
       "      <td>Wednesday</td>\n",
       "      <td>2017/12/20 4:23</td>\n",
       "      <td>4</td>\n",
       "      <td>1513743835781.json</td>\n",
       "      <td>91</td>\n",
       "      <td>4</td>\n",
       "      <td>910403</td>\n",
       "      <td>3</td>\n",
       "      <td>close</td>\n",
       "      <td>1.510000e+12</td>\n",
       "    </tr>\n",
       "  </tbody>\n",
       "</table>\n",
       "</div>"
      ],
      "text/plain": [
       "      DATETIME(JST) DATENAME(JST)  HOURS(JST)   DATENAME         DATETIME  \\\n",
       "0  2017/12/20 13:13     Wednesday          13  Wednesday  2017/12/20 4:13   \n",
       "1  2017/12/20 13:16     Wednesday          13  Wednesday  2017/12/20 4:16   \n",
       "2  2017/12/20 13:21     Wednesday          13  Wednesday  2017/12/20 4:21   \n",
       "3  2017/12/20 13:23     Wednesday          13  Wednesday  2017/12/20 4:23   \n",
       "4  2017/12/20 13:23     Wednesday          13  Wednesday  2017/12/20 4:23   \n",
       "\n",
       "   HOURS          Table Name  building  floor  sensorId  stall status  \\\n",
       "0      4  1513743187638.json        91      4    910401      1  close   \n",
       "1      4  1513743383454.json        91      4    910403      3  close   \n",
       "2      4  1513743674523.json        91      4    910402      2  close   \n",
       "3      4  1513743794829.json        91      4    910403      3   open   \n",
       "4      4  1513743835781.json        91      4    910403      3  close   \n",
       "\n",
       "   unixtimestamp  \n",
       "0   1.510000e+12  \n",
       "1   1.510000e+12  \n",
       "2   1.510000e+12  \n",
       "3   1.510000e+12  \n",
       "4   1.510000e+12  "
      ]
     },
     "execution_count": 50,
     "metadata": {},
     "output_type": "execute_result"
    }
   ],
   "source": [
    "df.head()"
   ]
  },
  {
   "cell_type": "code",
   "execution_count": 51,
   "metadata": {},
   "outputs": [
    {
     "name": "stderr",
     "output_type": "stream",
     "text": [
      "C:\\Users\\shoichi\\Anaconda3\\lib\\site-packages\\ipykernel_launcher.py:1: FutureWarning: currently extract(expand=None) means expand=False (return Index/Series/DataFrame) but in a future version of pandas this will be changed to expand=True (return DataFrame)\n",
      "  \"\"\"Entry point for launching an IPython kernel.\n"
     ]
    }
   ],
   "source": [
    "unixt = df[\"Table Name\"].str.extract('([0-9]+)')"
   ]
  },
  {
   "cell_type": "code",
   "execution_count": 52,
   "metadata": {},
   "outputs": [],
   "source": [
    "dat = df.loc[:,[\"DATETIME(JST)\",\"DATENAME(JST)\",\"HOURS(JST)\",\"sensorId\",\"stall\",\"status\"]]"
   ]
  },
  {
   "cell_type": "code",
   "execution_count": 53,
   "metadata": {},
   "outputs": [
    {
     "data": {
      "text/html": [
       "<div>\n",
       "<style scoped>\n",
       "    .dataframe tbody tr th:only-of-type {\n",
       "        vertical-align: middle;\n",
       "    }\n",
       "\n",
       "    .dataframe tbody tr th {\n",
       "        vertical-align: top;\n",
       "    }\n",
       "\n",
       "    .dataframe thead th {\n",
       "        text-align: right;\n",
       "    }\n",
       "</style>\n",
       "<table border=\"1\" class=\"dataframe\">\n",
       "  <thead>\n",
       "    <tr style=\"text-align: right;\">\n",
       "      <th></th>\n",
       "      <th>DATETIME(JST)</th>\n",
       "      <th>DATENAME(JST)</th>\n",
       "      <th>HOURS(JST)</th>\n",
       "      <th>sensorId</th>\n",
       "      <th>stall</th>\n",
       "      <th>status</th>\n",
       "      <th>unixtimestamp</th>\n",
       "    </tr>\n",
       "  </thead>\n",
       "  <tbody>\n",
       "    <tr>\n",
       "      <th>0</th>\n",
       "      <td>2017/12/20 13:13</td>\n",
       "      <td>Wednesday</td>\n",
       "      <td>13</td>\n",
       "      <td>910401</td>\n",
       "      <td>1</td>\n",
       "      <td>close</td>\n",
       "      <td>1513743187638</td>\n",
       "    </tr>\n",
       "    <tr>\n",
       "      <th>1</th>\n",
       "      <td>2017/12/20 13:16</td>\n",
       "      <td>Wednesday</td>\n",
       "      <td>13</td>\n",
       "      <td>910403</td>\n",
       "      <td>3</td>\n",
       "      <td>close</td>\n",
       "      <td>1513743383454</td>\n",
       "    </tr>\n",
       "    <tr>\n",
       "      <th>2</th>\n",
       "      <td>2017/12/20 13:21</td>\n",
       "      <td>Wednesday</td>\n",
       "      <td>13</td>\n",
       "      <td>910402</td>\n",
       "      <td>2</td>\n",
       "      <td>close</td>\n",
       "      <td>1513743674523</td>\n",
       "    </tr>\n",
       "    <tr>\n",
       "      <th>3</th>\n",
       "      <td>2017/12/20 13:23</td>\n",
       "      <td>Wednesday</td>\n",
       "      <td>13</td>\n",
       "      <td>910403</td>\n",
       "      <td>3</td>\n",
       "      <td>open</td>\n",
       "      <td>1513743794829</td>\n",
       "    </tr>\n",
       "    <tr>\n",
       "      <th>4</th>\n",
       "      <td>2017/12/20 13:23</td>\n",
       "      <td>Wednesday</td>\n",
       "      <td>13</td>\n",
       "      <td>910403</td>\n",
       "      <td>3</td>\n",
       "      <td>close</td>\n",
       "      <td>1513743835781</td>\n",
       "    </tr>\n",
       "  </tbody>\n",
       "</table>\n",
       "</div>"
      ],
      "text/plain": [
       "      DATETIME(JST) DATENAME(JST)  HOURS(JST)  sensorId  stall status  \\\n",
       "0  2017/12/20 13:13     Wednesday          13    910401      1  close   \n",
       "1  2017/12/20 13:16     Wednesday          13    910403      3  close   \n",
       "2  2017/12/20 13:21     Wednesday          13    910402      2  close   \n",
       "3  2017/12/20 13:23     Wednesday          13    910403      3   open   \n",
       "4  2017/12/20 13:23     Wednesday          13    910403      3  close   \n",
       "\n",
       "   unixtimestamp  \n",
       "0  1513743187638  \n",
       "1  1513743383454  \n",
       "2  1513743674523  \n",
       "3  1513743794829  \n",
       "4  1513743835781  "
      ]
     },
     "execution_count": 53,
     "metadata": {},
     "output_type": "execute_result"
    }
   ],
   "source": [
    "dat = pd.concat([dat, unixt], axis=1)\n",
    "#カラムネームの変更を行う\n",
    "columns={\n",
    "\"Table Name\":\"unixtimestamp\"\n",
    "}\n",
    "#再度読み込みを行う\n",
    "dat.rename(columns=columns, inplace=True)\n",
    "dat.head()"
   ]
  },
  {
   "cell_type": "code",
   "execution_count": 60,
   "metadata": {},
   "outputs": [],
   "source": [
    "dat1 = dat[dat.stall==1]\n",
    "dat2 = dat[dat.stall==2]\n",
    "dat3 = dat[dat.stall==3]"
   ]
  },
  {
   "cell_type": "code",
   "execution_count": 68,
   "metadata": {
    "scrolled": true
   },
   "outputs": [
    {
     "name": "stdout",
     "output_type": "stream",
     "text": [
      "indexer is out-of-bounds\n"
     ]
    }
   ],
   "source": [
    "for i in range(len(dat1)):\n",
    "    try:\n",
    "        if dat1.iloc[i][\"status\"] == \"open\" and dat1.iloc[i+1][\"status\"] == \"close\":\n",
    "#        print(str(i))\n",
    "            cls = dat1.iloc[[i]]\n",
    "            opn = dat1.iloc[[i+1]]\n",
    "            d = pd.concat([cls, opn])\n",
    "            d.to_csv(\"preset/\"+str(i)+\".csv\", index=False)\n",
    "    except:\n",
    "        print('indexer is out-of-bounds')"
   ]
  },
  {
   "cell_type": "code",
   "execution_count": 71,
   "metadata": {},
   "outputs": [],
   "source": [
    "import glob\n",
    "path = \"preset/\" # use your path\n",
    "all_files = glob.glob(path + \"*.csv\")\n",
    "frame = pd.DataFrame()\n",
    "list_ = []\n",
    "for file_ in all_files:\n",
    "    df = pd.read_csv(file_,index_col=None, header=0)\n",
    "    list_.append(df)\n",
    "frame = pd.concat(list_)\n",
    "stall1 = frame.sort_values(by=['unixtimestamp'])\n",
    "stall1.to_csv('stall1.csv', index=None)"
   ]
  },
  {
   "cell_type": "code",
   "execution_count": 95,
   "metadata": {},
   "outputs": [],
   "source": [
    "cls1 = stall1[stall1.status == \"close\"].reset_index(drop=True)\n",
    "op1 = stall1[stall1.status == \"open\"].reset_index(drop=True)"
   ]
  },
  {
   "cell_type": "code",
   "execution_count": 96,
   "metadata": {},
   "outputs": [
    {
     "data": {
      "text/html": [
       "<div>\n",
       "<style scoped>\n",
       "    .dataframe tbody tr th:only-of-type {\n",
       "        vertical-align: middle;\n",
       "    }\n",
       "\n",
       "    .dataframe tbody tr th {\n",
       "        vertical-align: top;\n",
       "    }\n",
       "\n",
       "    .dataframe thead th {\n",
       "        text-align: right;\n",
       "    }\n",
       "</style>\n",
       "<table border=\"1\" class=\"dataframe\">\n",
       "  <thead>\n",
       "    <tr style=\"text-align: right;\">\n",
       "      <th></th>\n",
       "      <th>DATETIME(JST)</th>\n",
       "      <th>DATENAME(JST)</th>\n",
       "      <th>HOURS(JST)</th>\n",
       "      <th>sensorId</th>\n",
       "      <th>stall</th>\n",
       "      <th>status</th>\n",
       "      <th>unixtimestamp</th>\n",
       "    </tr>\n",
       "  </thead>\n",
       "  <tbody>\n",
       "    <tr>\n",
       "      <th>0</th>\n",
       "      <td>2017/12/20 13:45</td>\n",
       "      <td>Wednesday</td>\n",
       "      <td>13</td>\n",
       "      <td>910401</td>\n",
       "      <td>1</td>\n",
       "      <td>close</td>\n",
       "      <td>1513745121391</td>\n",
       "    </tr>\n",
       "    <tr>\n",
       "      <th>1</th>\n",
       "      <td>2017/12/20 13:53</td>\n",
       "      <td>Wednesday</td>\n",
       "      <td>13</td>\n",
       "      <td>910401</td>\n",
       "      <td>1</td>\n",
       "      <td>close</td>\n",
       "      <td>1513745607821</td>\n",
       "    </tr>\n",
       "    <tr>\n",
       "      <th>2</th>\n",
       "      <td>2017/12/20 14:03</td>\n",
       "      <td>Wednesday</td>\n",
       "      <td>14</td>\n",
       "      <td>910401</td>\n",
       "      <td>1</td>\n",
       "      <td>close</td>\n",
       "      <td>1513746208398</td>\n",
       "    </tr>\n",
       "    <tr>\n",
       "      <th>3</th>\n",
       "      <td>2017/12/20 14:08</td>\n",
       "      <td>Wednesday</td>\n",
       "      <td>14</td>\n",
       "      <td>910401</td>\n",
       "      <td>1</td>\n",
       "      <td>close</td>\n",
       "      <td>1513746485029</td>\n",
       "    </tr>\n",
       "    <tr>\n",
       "      <th>4</th>\n",
       "      <td>2017/12/20 14:11</td>\n",
       "      <td>Wednesday</td>\n",
       "      <td>14</td>\n",
       "      <td>910401</td>\n",
       "      <td>1</td>\n",
       "      <td>close</td>\n",
       "      <td>1513746669042</td>\n",
       "    </tr>\n",
       "  </tbody>\n",
       "</table>\n",
       "</div>"
      ],
      "text/plain": [
       "      DATETIME(JST) DATENAME(JST)  HOURS(JST)  sensorId  stall status  \\\n",
       "0  2017/12/20 13:45     Wednesday          13    910401      1  close   \n",
       "1  2017/12/20 13:53     Wednesday          13    910401      1  close   \n",
       "2  2017/12/20 14:03     Wednesday          14    910401      1  close   \n",
       "3  2017/12/20 14:08     Wednesday          14    910401      1  close   \n",
       "4  2017/12/20 14:11     Wednesday          14    910401      1  close   \n",
       "\n",
       "   unixtimestamp  \n",
       "0  1513745121391  \n",
       "1  1513745607821  \n",
       "2  1513746208398  \n",
       "3  1513746485029  \n",
       "4  1513746669042  "
      ]
     },
     "execution_count": 96,
     "metadata": {},
     "output_type": "execute_result"
    }
   ],
   "source": [
    "cls1.head()"
   ]
  },
  {
   "cell_type": "code",
   "execution_count": 97,
   "metadata": {},
   "outputs": [],
   "source": [
    "#カラムネームの変更を行う\n",
    "columns={\n",
    "    \"DATETIME(JST)\":\"close_time\",\n",
    "    \"DATENAME(JST)\":\"DATENAME\",\n",
    "    \"HOURS(JST)\":\"hour_jst\"\n",
    "}\n",
    "#再度読み込みを行う\n",
    "cls1.rename(columns=columns, inplace=True)"
   ]
  },
  {
   "cell_type": "code",
   "execution_count": 98,
   "metadata": {},
   "outputs": [],
   "source": [
    "#カラムネームの変更を行う\n",
    "columns={\n",
    "    \"DATETIME(JST)\":\"open_time\",\n",
    "    \"DATENAME(JST)\":\"DATENAME\",\n",
    "    \"HOURS(JST)\":\"hour_jst\"\n",
    "}\n",
    "#再度読み込みを行う\n",
    "op1.rename(columns=columns, inplace=True)"
   ]
  },
  {
   "cell_type": "code",
   "execution_count": 99,
   "metadata": {},
   "outputs": [
    {
     "data": {
      "text/plain": [
       "0    2017/12/20 13:32\n",
       "1    2017/12/20 13:50\n",
       "2    2017/12/20 13:59\n",
       "3    2017/12/20 14:07\n",
       "4    2017/12/20 14:10\n",
       "Name: open_time, dtype: object"
      ]
     },
     "execution_count": 99,
     "metadata": {},
     "output_type": "execute_result"
    }
   ],
   "source": [
    "op1[\"open_time\"].head()"
   ]
  },
  {
   "cell_type": "code",
   "execution_count": 100,
   "metadata": {},
   "outputs": [
    {
     "data": {
      "text/plain": [
       "0    2017/12/20 13:45\n",
       "1    2017/12/20 13:53\n",
       "2    2017/12/20 14:03\n",
       "3    2017/12/20 14:08\n",
       "4    2017/12/20 14:11\n",
       "Name: close_time, dtype: object"
      ]
     },
     "execution_count": 100,
     "metadata": {},
     "output_type": "execute_result"
    }
   ],
   "source": [
    "cls1[\"close_time\"].head()"
   ]
  },
  {
   "cell_type": "code",
   "execution_count": 101,
   "metadata": {},
   "outputs": [
    {
     "data": {
      "text/plain": [
       "1198"
      ]
     },
     "execution_count": 101,
     "metadata": {},
     "output_type": "execute_result"
    }
   ],
   "source": [
    "len(op1)"
   ]
  },
  {
   "cell_type": "code",
   "execution_count": 102,
   "metadata": {},
   "outputs": [
    {
     "data": {
      "text/plain": [
       "1198"
      ]
     },
     "execution_count": 102,
     "metadata": {},
     "output_type": "execute_result"
    }
   ],
   "source": [
    "len(cls1)"
   ]
  },
  {
   "cell_type": "code",
   "execution_count": 104,
   "metadata": {},
   "outputs": [],
   "source": [
    "f1 = pd.concat([op1[\"open_time\"], cls1], axis=1)"
   ]
  },
  {
   "cell_type": "code",
   "execution_count": 105,
   "metadata": {},
   "outputs": [
    {
     "data": {
      "text/html": [
       "<div>\n",
       "<style scoped>\n",
       "    .dataframe tbody tr th:only-of-type {\n",
       "        vertical-align: middle;\n",
       "    }\n",
       "\n",
       "    .dataframe tbody tr th {\n",
       "        vertical-align: top;\n",
       "    }\n",
       "\n",
       "    .dataframe thead th {\n",
       "        text-align: right;\n",
       "    }\n",
       "</style>\n",
       "<table border=\"1\" class=\"dataframe\">\n",
       "  <thead>\n",
       "    <tr style=\"text-align: right;\">\n",
       "      <th></th>\n",
       "      <th>open_time</th>\n",
       "      <th>close_time</th>\n",
       "      <th>DATENAME</th>\n",
       "      <th>hour_jst</th>\n",
       "      <th>sensorId</th>\n",
       "      <th>stall</th>\n",
       "      <th>status</th>\n",
       "      <th>unixtimestamp</th>\n",
       "    </tr>\n",
       "  </thead>\n",
       "  <tbody>\n",
       "    <tr>\n",
       "      <th>0</th>\n",
       "      <td>2017/12/20 13:32</td>\n",
       "      <td>2017/12/20 13:45</td>\n",
       "      <td>Wednesday</td>\n",
       "      <td>13</td>\n",
       "      <td>910401</td>\n",
       "      <td>1</td>\n",
       "      <td>close</td>\n",
       "      <td>1513745121391</td>\n",
       "    </tr>\n",
       "    <tr>\n",
       "      <th>1</th>\n",
       "      <td>2017/12/20 13:50</td>\n",
       "      <td>2017/12/20 13:53</td>\n",
       "      <td>Wednesday</td>\n",
       "      <td>13</td>\n",
       "      <td>910401</td>\n",
       "      <td>1</td>\n",
       "      <td>close</td>\n",
       "      <td>1513745607821</td>\n",
       "    </tr>\n",
       "    <tr>\n",
       "      <th>2</th>\n",
       "      <td>2017/12/20 13:59</td>\n",
       "      <td>2017/12/20 14:03</td>\n",
       "      <td>Wednesday</td>\n",
       "      <td>14</td>\n",
       "      <td>910401</td>\n",
       "      <td>1</td>\n",
       "      <td>close</td>\n",
       "      <td>1513746208398</td>\n",
       "    </tr>\n",
       "    <tr>\n",
       "      <th>3</th>\n",
       "      <td>2017/12/20 14:07</td>\n",
       "      <td>2017/12/20 14:08</td>\n",
       "      <td>Wednesday</td>\n",
       "      <td>14</td>\n",
       "      <td>910401</td>\n",
       "      <td>1</td>\n",
       "      <td>close</td>\n",
       "      <td>1513746485029</td>\n",
       "    </tr>\n",
       "    <tr>\n",
       "      <th>4</th>\n",
       "      <td>2017/12/20 14:10</td>\n",
       "      <td>2017/12/20 14:11</td>\n",
       "      <td>Wednesday</td>\n",
       "      <td>14</td>\n",
       "      <td>910401</td>\n",
       "      <td>1</td>\n",
       "      <td>close</td>\n",
       "      <td>1513746669042</td>\n",
       "    </tr>\n",
       "  </tbody>\n",
       "</table>\n",
       "</div>"
      ],
      "text/plain": [
       "          open_time        close_time   DATENAME  hour_jst  sensorId  stall  \\\n",
       "0  2017/12/20 13:32  2017/12/20 13:45  Wednesday        13    910401      1   \n",
       "1  2017/12/20 13:50  2017/12/20 13:53  Wednesday        13    910401      1   \n",
       "2  2017/12/20 13:59  2017/12/20 14:03  Wednesday        14    910401      1   \n",
       "3  2017/12/20 14:07  2017/12/20 14:08  Wednesday        14    910401      1   \n",
       "4  2017/12/20 14:10  2017/12/20 14:11  Wednesday        14    910401      1   \n",
       "\n",
       "  status  unixtimestamp  \n",
       "0  close  1513745121391  \n",
       "1  close  1513745607821  \n",
       "2  close  1513746208398  \n",
       "3  close  1513746485029  \n",
       "4  close  1513746669042  "
      ]
     },
     "execution_count": 105,
     "metadata": {},
     "output_type": "execute_result"
    }
   ],
   "source": [
    "f1.head()"
   ]
  },
  {
   "cell_type": "code",
   "execution_count": 106,
   "metadata": {},
   "outputs": [],
   "source": [
    "f1.to_csv('f1.csv',index=False)"
   ]
  },
  {
   "cell_type": "code",
   "execution_count": 107,
   "metadata": {},
   "outputs": [
    {
     "name": "stdout",
     "output_type": "stream",
     "text": [
      "indexer is out-of-bounds\n"
     ]
    }
   ],
   "source": [
    "for i in range(len(dat2)):\n",
    "    try:\n",
    "        if dat2.iloc[i][\"status\"] == \"open\" and dat2.iloc[i+1][\"status\"] == \"close\":\n",
    "#        print(str(i))\n",
    "            cls = dat2.iloc[[i]]\n",
    "            opn = dat2.iloc[[i+1]]\n",
    "            d = pd.concat([cls, opn])\n",
    "            d.to_csv(\"preset2/\"+str(i)+\".csv\", index=False)\n",
    "    except:\n",
    "        print('indexer is out-of-bounds')"
   ]
  },
  {
   "cell_type": "code",
   "execution_count": 108,
   "metadata": {},
   "outputs": [],
   "source": [
    "import glob\n",
    "path = \"preset2/\" # use your path\n",
    "all_files = glob.glob(path + \"*.csv\")\n",
    "frame = pd.DataFrame()\n",
    "list_ = []\n",
    "for file_ in all_files:\n",
    "    df = pd.read_csv(file_,index_col=None, header=0)\n",
    "    list_.append(df)\n",
    "frame = pd.concat(list_)\n",
    "stall2 = frame.sort_values(by=['unixtimestamp'])\n",
    "stall2.to_csv('stall2.csv', index=None)"
   ]
  },
  {
   "cell_type": "code",
   "execution_count": 109,
   "metadata": {},
   "outputs": [],
   "source": [
    "cls2 = stall2[stall2.status == \"close\"].reset_index(drop=True)\n",
    "op2 = stall2[stall2.status == \"open\"].reset_index(drop=True)"
   ]
  },
  {
   "cell_type": "code",
   "execution_count": 110,
   "metadata": {},
   "outputs": [],
   "source": [
    "#カラムネームの変更を行う\n",
    "columns={\n",
    "    \"DATETIME(JST)\":\"close_time\",\n",
    "    \"DATENAME(JST)\":\"DATENAME\",\n",
    "    \"HOURS(JST)\":\"hour_jst\"\n",
    "}\n",
    "#再度読み込みを行う\n",
    "cls2.rename(columns=columns, inplace=True)\n",
    "\n",
    "#カラムネームの変更を行う\n",
    "columns={\n",
    "    \"DATETIME(JST)\":\"open_time\",\n",
    "    \"DATENAME(JST)\":\"DATENAME\",\n",
    "    \"HOURS(JST)\":\"hour_jst\"\n",
    "}\n",
    "#再度読み込みを行う\n",
    "op2.rename(columns=columns, inplace=True)"
   ]
  },
  {
   "cell_type": "code",
   "execution_count": 111,
   "metadata": {},
   "outputs": [],
   "source": [
    "f2 = pd.concat([op2[\"open_time\"], cls2], axis=1)\n",
    "f2.to_csv('f2.csv',index=False)"
   ]
  },
  {
   "cell_type": "code",
   "execution_count": null,
   "metadata": {},
   "outputs": [],
   "source": []
  }
 ],
 "metadata": {
  "kernelspec": {
   "display_name": "Python 3",
   "language": "python",
   "name": "python3"
  },
  "language_info": {
   "codemirror_mode": {
    "name": "ipython",
    "version": 3
   },
   "file_extension": ".py",
   "mimetype": "text/x-python",
   "name": "python",
   "nbconvert_exporter": "python",
   "pygments_lexer": "ipython3",
   "version": "3.6.3"
  }
 },
 "nbformat": 4,
 "nbformat_minor": 2
}
